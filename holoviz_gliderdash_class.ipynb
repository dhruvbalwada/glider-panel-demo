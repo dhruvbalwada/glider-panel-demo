{
 "cells": [
  {
   "cell_type": "code",
   "execution_count": null,
   "id": "digital-michael",
   "metadata": {},
   "outputs": [],
   "source": [
    "import hvplot.xarray \n",
    "import numpy as np\n",
    "import panel as pn\n",
    "import xarray as xr\n",
    "import holoviews as hv"
   ]
  },
  {
   "cell_type": "code",
   "execution_count": null,
   "id": "exotic-durham",
   "metadata": {},
   "outputs": [],
   "source": [
    "# Open data\n",
    "\n",
    "# open Surface fields\n",
    "fname_SSH = \"./data/SSH_sogos.nc\"\n",
    "fname_FSLE = \"./data/FSLE_sogos.nc\"\n",
    "\n",
    "ds_ssh = xr.open_dataset(fname_SSH)\n",
    "ds_fsle = xr.open_dataset(fname_FSLE)\n",
    "\n",
    "# Create variables for vectors\n",
    "ds_ssh['mag'] = np.sqrt(ds_ssh.ugos**2 + ds_ssh.vgos**2)\n",
    "ds_ssh['angle'] = (np.pi/2.) - np.arctan2(ds_ssh.ugos/ds_ssh['mag'], \n",
    "                                          ds_ssh.vgos/ds_ssh['mag'])"
   ]
  },
  {
   "cell_type": "code",
   "execution_count": null,
   "id": "healthy-waters",
   "metadata": {},
   "outputs": [],
   "source": [
    "days = ds_ssh.time - np.datetime64('2019-01-01')\n",
    "ds_ssh['days'] = (days / np.timedelta64(1, 'D'))\n",
    "\n",
    "days = ds_fsle.time - np.datetime64('2019-01-01')\n",
    "ds_fsle['days'] = (days / np.timedelta64(1, 'D'))"
   ]
  },
  {
   "cell_type": "markdown",
   "id": "small-karma",
   "metadata": {},
   "source": [
    "### Load glider data"
   ]
  },
  {
   "cell_type": "code",
   "execution_count": null,
   "id": "stone-wealth",
   "metadata": {},
   "outputs": [],
   "source": [
    "# open glider files\n",
    "glid_folder = './data/'\n",
    "ds_659 = xr.load_dataset(glid_folder + 'sg659/CTD_659.nc')\n",
    "ds_660 = xr.load_dataset(glid_folder + 'sg660/CTD_660.nc')\n",
    "\n",
    "# easier to work with a days variable that is a float rather than datenum\n",
    "days = ds_659.time - np.datetime64('2019-01-01')\n",
    "ds_659['days'] = (days / np.timedelta64(1, 'D'))\n",
    "\n",
    "days = ds_660.time - np.datetime64('2019-01-01')\n",
    "ds_660['days'] = (days / np.timedelta64(1, 'D'))\n",
    "\n",
    "# Group and average by dives so that plotting of positions is fast\n",
    "ds_659_av = ds_659.groupby('dives').mean()\n",
    "ds_660_av = ds_660.groupby('dives').mean()\n",
    "\n",
    "ds_659_av = ds_659_av.drop('dives')\n",
    "ds_660_av = ds_660_av.drop('dives')"
   ]
  },
  {
   "cell_type": "code",
   "execution_count": null,
   "id": "adequate-drain",
   "metadata": {},
   "outputs": [],
   "source": [
    "# convert from point data to gridded data, can take some time\n",
    "ds_659_grid = xr.load_dataset(glid_folder + '659_grid.nc')\n",
    "ds_660_grid = xr.load_dataset(glid_folder + '660_grid.nc')"
   ]
  },
  {
   "cell_type": "markdown",
   "id": "owned-equipment",
   "metadata": {},
   "source": [
    "### Surface plots "
   ]
  },
  {
   "cell_type": "code",
   "execution_count": null,
   "id": "sorted-level",
   "metadata": {},
   "outputs": [],
   "source": [
    "from holoviews import streams\n",
    "import param"
   ]
  },
  {
   "cell_type": "markdown",
   "id": "controlled-terrorist",
   "metadata": {},
   "source": [
    "---\n",
    "### Helper functions"
   ]
  },
  {
   "cell_type": "code",
   "execution_count": null,
   "id": "informed-berry",
   "metadata": {},
   "outputs": [],
   "source": [
    "def plot_surface_var(time_sel, var_sel):\n",
    "    vec_plot = ds_ssh.where(ds_ssh.days==time_sel,drop=True).squeeze('time').hvplot.vectorfield(\n",
    "                                      x='longitude', y='latitude', angle='angle', mag='mag',\n",
    "                                       hover=False).opts(magnitude='mag')\n",
    "    \n",
    "    if var_sel == 'SSH':\n",
    "        plot_gen = ds_ssh['adt'].where(ds_ssh.days==time_sel,drop=True\n",
    "                                      ).squeeze('time').hvplot.contourf(levels=np.linspace(-1.2,0,21)\n",
    "                                                                        ).opts(clim=(-1,0), \n",
    "                                                                               cmap='RdBu_r',\n",
    "                                                                               clabel='SSH')\n",
    "        \n",
    "    elif var_sel =='SSHA':\n",
    "        plot_gen = ds_ssh['sla'].where(ds_ssh.days==time_sel,drop=True\n",
    "                                      ).squeeze('time').hvplot.contourf(levels=np.linspace(-.4,0.6,21), \n",
    "                                                                     ).opts(clim=(-0.3,0.3),\n",
    "                                                                            cmap='RdBu_r',\n",
    "                                                                            clabel='SSHA')\n",
    "    \n",
    "    elif var_sel == 'FSLE':\n",
    "        plot_gen = ds_fsle['fsle_max'].where(ds_ssh.days==time_sel,drop=True\n",
    "                                            ).squeeze('time').hvplot.image(rasterize=True).opts(clim=(-0.6,0),\n",
    "                                                                                  cmap='Blues_r',\n",
    "                                                                                  clabel='FSLE')\n",
    "        \n",
    "    composite = (plot_gen*vec_plot)\n",
    "                            #str(ds_ssh.time.where(ds_ssh.days==150, drop=True).squeeze('time').values)[0:10] )\n",
    "    \n",
    "    return composite\n",
    "\n",
    "\n",
    "# Generate the glider tracks\n",
    "#@pn.depends(time_rng = time_range_slider.param.value, glid_sel = glider_select.param.value)\n",
    "def plot_glider_tracks(time_rng, glid_sel=\"659\"):\n",
    "    \n",
    "    width_659=2\n",
    "    width_660=2\n",
    "    \n",
    "    if glid_sel==\"659\":\n",
    "        width_659 = 4.\n",
    "    elif glid_sel==\"660\":\n",
    "        width_660=4.\n",
    "        \n",
    "    \n",
    "    plot_660 = ds_660_av.where(np.logical_and(ds_660_av.days>time_rng[0], \n",
    "                                              ds_660_av.days<time_rng[1]), drop=True \n",
    "                          ).hvplot(x='longitude', y='latitude', \n",
    "                                   hover=True, hover_cols=['days'], \n",
    "                                   line_width=width_660, line_color=\"orange\" )\n",
    "    \n",
    "    plot_659 = ds_659_av.where(np.logical_and(ds_659_av.days>time_rng[0], \n",
    "                                              ds_659_av.days<time_rng[1]), drop=True \n",
    "                          ).hvplot(x='longitude', y='latitude', hover=True, \n",
    "                                   hover_cols=['days'],\n",
    "                                  line_width=width_659, line_color=\"green\")\n",
    "    \n",
    "    composite = (plot_660 * plot_659)\n",
    "    \n",
    "    return composite"
   ]
  },
  {
   "cell_type": "code",
   "execution_count": null,
   "id": "durable-setting",
   "metadata": {},
   "outputs": [],
   "source": [
    "class GliderApp(param.Parameterized):\n",
    "    surf_var_select = param.Selector(label=\"Surface Field\",\n",
    "                                     objects=['SSH','SSHA','FSLE'])\n",
    "    time_range_slider = param.Range(label=\"Year Day Range\",\n",
    "                                    bounds=(int(ds_ssh.days.min().values),int(ds_ssh.days.max().values)),\n",
    "                                    default=(int(ds_ssh.days.min().values), int(ds_ssh.days.min().values)+10))\n",
    "    glider_select = param.Selector(label=\"Glider #\",\n",
    "                                   objects=['659', '660'])\n",
    "    glider_var_select = param.Selector(label=\"Glider Variable\",\n",
    "                                       objects=['temperature', 'salinity','spice'])\n",
    "    \n",
    "    startLat, endLat = None, None\n",
    "    startLon, endLon = None, None\n",
    "    map_plot = None\n",
    "    glider_plot = None\n",
    "    \n",
    "    # starting to keep state\n",
    "    def keep_map_zoom(self, x_range, y_range):\n",
    "#         print(y_range, x_range)\n",
    "        self.startLat, self.endLat = y_range\n",
    "        self.startLon, self.endLon = x_range\n",
    "    \n",
    "    @pn.depends('surf_var_select', 'time_range_slider', 'glider_select')\n",
    "    def combined_map(self):\n",
    "#         print(\"MAPPING\")\n",
    "        surf_var_plot = plot_surface_var(self.time_range_slider[1], self.surf_var_select)\n",
    "        glid_track_plot =  plot_glider_tracks(self.time_range_slider, self.glider_select)\n",
    "\n",
    "        self.map_plot =  (surf_var_plot*glid_track_plot).opts(frame_width=400, frame_height=400, \n",
    "                                                           xlim=(28,40), ylim=(-55,-49)\n",
    "                                                   ).opts(\n",
    "                                                         title =str(ds_ssh.time.where(ds_ssh.days==self.time_range_slider[1], drop=True).squeeze('time').values)[0:10])\n",
    "        \n",
    "        rangelatlon = streams.RangeXY(source=self.map_plot, y_range=(self.startLat, self.endLat), x_range=(self.startLon, self.endLon))\n",
    "        rangelatlon.add_subscriber(self.keep_map_zoom)\n",
    "#         print(self.map_plot.range('longitude'), self.map_plot.range('latitude'))\n",
    "        \n",
    "        if all((self.startLat, self.endLat)) and all((self.startLon, self.endLon)):\n",
    "#             print(\"REDIM\")\n",
    "            self.self.map_plot.redim.range(longitude=(self.startLon, self.endLon), latitude=(self.startLat, self.endLat))\n",
    "        return self.map_plot\n",
    "    \n",
    "    @pn.depends('glider_select', 'glider_var_select', 'time_range_slider')\n",
    "    def plot_glider(self):\n",
    "        var_select_map = {\n",
    "            'spice': {\n",
    "                'bin_range': (-0.7, 0.02),\n",
    "                'cmap_sel': 'RdBu_r'\n",
    "            },\n",
    "            'salinity': {\n",
    "                'bin_range': (33.75, 35),\n",
    "                'cmap_sel': 'RdBu_r'\n",
    "            },\n",
    "            'temperature': {\n",
    "                'bin_range': (0,4),\n",
    "                'cmap_sel': 'RdBu_r'\n",
    "            }\n",
    "        }\n",
    "        glider_map = {\n",
    "            '659': ds_659_grid,\n",
    "            '660': ds_660_grid\n",
    "        }\n",
    "        \n",
    "        plot_gen_image = glider_map[self.glider_select][self.glider_var_select].hvplot.image(rasterize=True,cmap=var_select_map[self.glider_var_select]['cmap_sel'], \n",
    "                                                    flip_yaxis=True, clim=var_select_map[self.glider_var_select]['bin_range']).apply.opts(\n",
    "                                                    xlim = self.time_range_slider).hist(bin_range = var_select_map[self.glider_var_select]['bin_range'])\n",
    "        \n",
    "        plot_gen_contour = glider_map[self.glider_select]['potdens'].hvplot.contour(flip_yaxis=True, \n",
    "                                                                     levels=np.linspace(1026.8, 1027.8,11)\n",
    "                                                                     ).apply.opts(xlim = self.time_range_slider)\n",
    "        \n",
    "        self.glider_plot = plot_gen_image*plot_gen_contour\n",
    "\n",
    "        return self.glider_plot"
   ]
  },
  {
   "cell_type": "code",
   "execution_count": null,
   "id": "decimal-egypt",
   "metadata": {},
   "outputs": [],
   "source": [
    "obj = GliderApp()"
   ]
  },
  {
   "cell_type": "code",
   "execution_count": null,
   "id": "sunrise-reggae",
   "metadata": {},
   "outputs": [],
   "source": [
    "Surf = pn.Column(pn.Row(obj.param, obj.combined_map), obj.plot_glider)"
   ]
  },
  {
   "cell_type": "code",
   "execution_count": null,
   "id": "conscious-english",
   "metadata": {},
   "outputs": [],
   "source": [
    "# working locally\n",
    "# Surf.app()\n",
    "\n",
    "# mybinder.org app\n",
    "Surf.servable()"
   ]
  },
  {
   "cell_type": "code",
   "execution_count": null,
   "id": "elementary-harvest",
   "metadata": {},
   "outputs": [],
   "source": []
  }
 ],
 "metadata": {
  "kernelspec": {
   "display_name": "Python 3",
   "language": "python",
   "name": "python3"
  },
  "language_info": {
   "codemirror_mode": {
    "name": "ipython",
    "version": 3
   },
   "file_extension": ".py",
   "mimetype": "text/x-python",
   "name": "python",
   "nbconvert_exporter": "python",
   "pygments_lexer": "ipython3",
   "version": "3.7.9"
  }
 },
 "nbformat": 4,
 "nbformat_minor": 5
}
