{
 "cells": [
  {
   "cell_type": "code",
   "execution_count": null,
   "metadata": {},
   "outputs": [],
   "source": [
    "import numpy as np\n",
    "import xarray as xr\n",
    "import glidertools as gt"
   ]
  },
  {
   "cell_type": "code",
   "execution_count": null,
   "metadata": {},
   "outputs": [],
   "source": [
    "# Open data\n",
    "\n",
    "# open Surface fields\n",
    "fname_SSH = \"./data/SSH_sogos.nc\"\n",
    "fname_FSLE = \"./data/FSLE_sogos.nc\"\n",
    "\n",
    "ds_ssh = xr.open_dataset(fname_SSH)\n",
    "ds_fsle = xr.open_dataset(fname_FSLE)\n",
    "\n",
    "# Create variables for vectors\n",
    "ds_ssh['mag'] = np.sqrt(ds_ssh.ugos**2 + ds_ssh.vgos**2)\n",
    "ds_ssh['angle'] = (np.pi/2.) - np.arctan2(ds_ssh.ugos/ds_ssh['mag'], \n",
    "                                          ds_ssh.vgos/ds_ssh['mag'])"
   ]
  },
  {
   "cell_type": "code",
   "execution_count": null,
   "metadata": {},
   "outputs": [],
   "source": [
    "# open glider files\n",
    "glid_folder = './data/'\n",
    "ds_659 = xr.load_dataset(glid_folder + 'sg659/CTD_659.nc')\n",
    "ds_660 = xr.load_dataset(glid_folder + 'sg660/CTD_660.nc')\n",
    "\n",
    "# easier to work with a days variable that is a float rather than datenum\n",
    "days = ds_659.time - np.datetime64('2019-01-01')\n",
    "ds_659['days'] = (days / np.timedelta64(1, 'D'))\n",
    "\n",
    "days = ds_660.time - np.datetime64('2019-01-01')\n",
    "ds_660['days'] = (days / np.timedelta64(1, 'D'))\n",
    "\n",
    "# Group and average by dives so that plotting of positions is fast\n",
    "ds_659_av = ds_659.groupby('dives').mean()\n",
    "ds_660_av = ds_660.groupby('dives').mean()\n",
    "\n",
    "ds_659_av = ds_659_av.drop('dives')\n",
    "ds_660_av = ds_660_av.drop('dives')"
   ]
  },
  {
   "cell_type": "code",
   "execution_count": null,
   "metadata": {},
   "outputs": [],
   "source": [
    "ds_659"
   ]
  },
  {
   "cell_type": "code",
   "execution_count": null,
   "metadata": {},
   "outputs": [],
   "source": [
    "ds_659['potdens'] = gt.physics.potential_density(ds_659.salinity, \n",
    "                                                 ds_659.temperature, \n",
    "                                                 ds_659.pressure, \n",
    "                                                 ds_659.latitude, \n",
    "                                                 ds_659.longitude)\n",
    "\n",
    "ds_660['potdens'] = gt.physics.potential_density(ds_660.salinity, \n",
    "                                                 ds_660.temperature, \n",
    "                                                 ds_660.pressure,\n",
    "                                                 ds_660.latitude, \n",
    "                                                 ds_660.longitude)\n",
    "\n",
    "# we can add mixed layer depth, N2 etc in the future versions"
   ]
  },
  {
   "cell_type": "code",
   "execution_count": null,
   "metadata": {},
   "outputs": [],
   "source": [
    "ds_659['spice'] = gt.physics.spice0(ds_659.salinity, \n",
    "                         ds_659.temperature, \n",
    "                         ds_659.pressure, \n",
    "                         ds_659.latitude, \n",
    "                         ds_659.longitude)\n",
    "\n",
    "ds_660['spice'] = gt.physics.spice0(ds_660.salinity, \n",
    "                         ds_660.temperature, \n",
    "                         ds_660.pressure, \n",
    "                         ds_660.latitude, \n",
    "                         ds_660.longitude)"
   ]
  },
  {
   "cell_type": "code",
   "execution_count": null,
   "metadata": {},
   "outputs": [],
   "source": [
    "# Interpolate and grid glider data on pressure-time axis\n",
    "# There are many ways this can be done. We choose a simple linear interpolation in time and pressure\n",
    "# We could alternatively interpolate in density-time, pressure-distance, dive-pressure etc.\n",
    "# This a place where a lot of more work into GP and \n",
    "# learning the most optimal interpolation (in sense of MLE) might work. \n",
    "\n",
    "# Note this is different from what glidertools does, which does a simple binning. \n",
    "\n",
    "from scipy.interpolate import griddata\n",
    "# interpolate on pressure-time \n",
    "def interp_pres_time(ds_glid, var): \n",
    "    pres_ug = ds_glid.pressure\n",
    "    time_ug = ds_glid.days\n",
    "    \n",
    "    # convert to points values\n",
    "    points = np.stack([time_ug.values, pres_ug.values],\n",
    "                       axis=1)\n",
    "    values = ds_glid[var].values\n",
    "    \n",
    "    # remove nans\n",
    "    non_nan = np.logical_and(np.logical_and(~np.isnan(points[:,0]), \n",
    "                                      ~np.isnan(points[:,1])),\n",
    "                                      ~np.isnan(values))\n",
    "    \n",
    "    points =points[non_nan,:]\n",
    "    values =values[non_nan]\n",
    "    \n",
    "    # define grid\n",
    "    pres_grid = np.linspace(0,1000,1001)\n",
    "    time_grid = np.arange(119, 207, 0.025)\n",
    "    grid_p, grid_t = np.meshgrid(pres_grid, time_grid)\n",
    "    \n",
    "    temp_grided = griddata(points, values, \n",
    "                         (grid_t, grid_p), \n",
    "                         method='linear', rescale=True)\n",
    "    \n",
    "    return xr.DataArray(temp_grided.T, \n",
    "                               dims=[\"pressure\", \"time\"],\n",
    "                          coords={\"pressure\":pres_grid,\n",
    "                                    \"time\":time_grid}).rename(var)\n",
    "\n",
    "# apply to all useful glider variables \n",
    "# can later add in variables measured by other instruments too \n",
    "def convert_glider(ds_glid, vars_convert= ['temperature','salinity','potdens','spice']):\n",
    "    \n",
    "    #vars_convert = ['temperature','salinity','potdens']\n",
    "    \n",
    "    ds_grid = xr.Dataset()\n",
    "    \n",
    "    for v in vars_convert:\n",
    "            ds_grid[v] = interp_pres_time(ds_glid, v)\n",
    "    \n",
    "    return ds_grid"
   ]
  },
  {
   "cell_type": "code",
   "execution_count": null,
   "metadata": {},
   "outputs": [],
   "source": [
    "# convert from point data to gridded data, can take some time\n",
    "ds_659_grid = convert_glider(ds_659)\n",
    "ds_660_grid = convert_glider(ds_660)"
   ]
  },
  {
   "cell_type": "code",
   "execution_count": null,
   "metadata": {},
   "outputs": [],
   "source": [
    "data_settings = {\"zlib\": True, \"dtype\":'float32', \"complevel\": 9}\n",
    "encoding_dict = dict(temperature=data_settings,\n",
    "                     salinity=data_settings,\n",
    "                     potdens=data_settings,\n",
    "                     spice=data_settings)\n",
    "\n",
    "ds_659_grid.to_netcdf('659_grid.nc', encoding=encoding_dict)\n",
    "\n",
    "ds_660_grid.to_netcdf('660_grid.nc', encoding=encoding_dict)"
   ]
  },
  {
   "cell_type": "code",
   "execution_count": null,
   "metadata": {},
   "outputs": [],
   "source": []
  }
 ],
 "metadata": {
  "kernelspec": {
   "display_name": "Python 3",
   "language": "python",
   "name": "python3"
  },
  "language_info": {
   "codemirror_mode": {
    "name": "ipython",
    "version": 3
   },
   "file_extension": ".py",
   "mimetype": "text/x-python",
   "name": "python",
   "nbconvert_exporter": "python",
   "pygments_lexer": "ipython3",
   "version": "3.8.6"
  }
 },
 "nbformat": 4,
 "nbformat_minor": 4
}
