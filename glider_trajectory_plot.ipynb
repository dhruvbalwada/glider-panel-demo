{
 "cells": [
  {
   "cell_type": "markdown",
   "metadata": {},
   "source": [
    "## Dashboard for exploring glider trajectory relative to surface properties\n",
    "\n",
    "Here we create a panel dashboard that allows us to explore the lat-lon-time trajectory of the glider relative to a few surface fields."
   ]
  },
  {
   "cell_type": "code",
   "execution_count": null,
   "metadata": {},
   "outputs": [],
   "source": [
    "import hvplot.xarray \n",
    "import numpy as np\n",
    "import panel as pn\n",
    "import xarray as xr\n",
    "import holoviews as hv\n",
    "import geoviews as gv\n",
    "from holoviews import opts\n",
    "from holoviews import streams\n",
    "import matplotlib.pyplot as plt\n",
    "import geopandas\n",
    "import pandas as pd\n",
    "import hvplot.pandas  # noqa\n",
    "import param\n",
    "import cartopy.crs as ccrs"
   ]
  },
  {
   "cell_type": "markdown",
   "metadata": {},
   "source": [
    "### Load in surface variables"
   ]
  },
  {
   "cell_type": "code",
   "execution_count": null,
   "metadata": {},
   "outputs": [],
   "source": [
    "data_dir = './data/'\n",
    "ds_ssh  = xr.open_dataset(data_dir + 'SSH_sogos_processed.nc')\n",
    "ds_fsle = xr.open_dataset(data_dir + 'FSLE_sogos_processed.nc')\n",
    "\n",
    "ds_659_locs = xr.open_dataset(data_dir + '659_locs.nc')\n",
    "ds_660_locs = xr.open_dataset(data_dir + '660_locs.nc')"
   ]
  },
  {
   "cell_type": "code",
   "execution_count": null,
   "metadata": {},
   "outputs": [],
   "source": [
    "ds_ssh  = ds_ssh.assign_coords(days = ds_ssh.days)\n",
    "ds_fsle = ds_fsle.assign_coords(days = ds_fsle.days)"
   ]
  },
  {
   "cell_type": "code",
   "execution_count": null,
   "metadata": {},
   "outputs": [],
   "source": [
    "# convert to pandas dataframe as it is much easier to handle in holoviz for traj data.\n",
    "ds_659_pd = ds_659_locs.to_dataframe()\n",
    "ds_660_pd = ds_660_locs.to_dataframe()\n",
    "#ds_659_gpd = geopandas.GeoDataFrame(ds_659_locs.to_dataframe())\n",
    "#ds_660_gpd = geopandas.GeoDataFrame(ds_660_locs.to_dataframe())"
   ]
  },
  {
   "cell_type": "markdown",
   "metadata": {},
   "source": [
    "### Main part"
   ]
  },
  {
   "cell_type": "code",
   "execution_count": null,
   "metadata": {},
   "outputs": [],
   "source": [
    "#glider_nums = ['sg659', 'sg660']\n",
    "glider_map = {\n",
    "            'sg659': {'loc': ds_659_pd},\n",
    "            'sg660': {'loc': ds_660_pd},\n",
    "        }"
   ]
  },
  {
   "cell_type": "code",
   "execution_count": null,
   "metadata": {},
   "outputs": [],
   "source": [
    "surface_var_map = {\n",
    "    'SSH' : ds_ssh['adt'],\n",
    "    'SSHA': ds_ssh['sla'],\n",
    "    'FSLE': ds_fsle['fsle_max']\n",
    "    }"
   ]
  },
  {
   "cell_type": "code",
   "execution_count": null,
   "metadata": {},
   "outputs": [],
   "source": [
    "class TrajectoryPlot(param.Parameterized):\n",
    "    surface_var = param.Selector(surface_var_map.keys(), default='SSH',\n",
    "                                label='Surface Field', precedence=0)\n",
    "    glider_num = param.Selector(glider_map.keys(), default='sg659',\n",
    "                                label='Glider Num', precedence=0)\n",
    "    time_slider = param.Range(label='Days in 2019', \n",
    "                             bounds=(119, 205), \n",
    "                             default=(119, 135), precedence=3)\n",
    "    alpha_slider = param.Magnitude(label='Transparency', precedence=4)\n",
    "    \n",
    "    # Function to plot trajectories\n",
    "    @param.depends('glider_num', 'time_slider')\n",
    "    def plot_traj(self):\n",
    "        time_rng = self.time_slider\n",
    "        \n",
    "        traj = {}\n",
    "        for glid in glider_nums:\n",
    "            ds = glider_map[glid]['loc']\n",
    "            ds_tsel = ds.loc[(ds.days>time_rng[0]) & (ds.days<time_rng[1])]\n",
    "        \n",
    "            traj[glid] = ds_tsel.hvplot.points(geo=True,  x='longitude', y='latitude', \n",
    "                                               hover=True, hover_cols=['days'], \n",
    "                                               size=1)\n",
    "            # setting PlateCarree as projection makes the hover cols show up properly, but then the bathy disappears.\n",
    "\n",
    "        traj[self.glider_num].opts(size=2.5)\n",
    "        \n",
    "        return traj['sg659']*traj['sg660']\n",
    "    \n",
    "    # Function to plot tiles\n",
    "    def surf_tiles(self):\n",
    "        gebco_tiles = 'https://tiles.arcgis.com/tiles/C8EMgrsFcRFL6LrL/arcgis/rest/services/GEBCO_basemap_NCEI/MapServer/tile/{Z}/{Y}/{X}'\n",
    "        return gv.WMTS( gebco_tiles )\n",
    "    \n",
    "    # function to plot vector field\n",
    "    @param.depends('time_slider')\n",
    "    def surf_vec(self):\n",
    "        time_sel = self.time_slider[1] # show map for last day on time slider\n",
    "        \n",
    "        return ds_ssh.where(ds_ssh.days==time_sel, drop=True).squeeze('time'\n",
    "                    ).hvplot.vectorfield(x='longitude', y='latitude', angle='angle', mag='mag',\n",
    "                                        geo=True, hover=False).opts(magnitude='mag')\n",
    "    \n",
    "    #function to plot surface field \n",
    "    @param.depends('surface_var', 'time_slider', 'alpha_slider')\n",
    "    def plot_surface(self):\n",
    "        time_sel = self.time_slider[1] # show map for last day on time slider\n",
    "        \n",
    "        ds_all = surface_var_map[self.surface_var]\n",
    "        ds = ds_all.where(ds_all.days==time_sel, drop=True).squeeze('time')\n",
    "        if self.surface_var == 'FSLE':    \n",
    "            surf_plot = ds.hvplot.image(geo=True)\n",
    "            surf_plot.opts(clim=(-0.6,0), cmap='Blues_r', clabel='FSLE')\n",
    "        elif self.surface_var == 'SSH':\n",
    "            surf_plot = ds.hvplot.image(geo=True)\n",
    "            surf_plot.opts(clim=(-1,0), cmap='cividis', clabel='SSH')\n",
    "        else: \n",
    "            surf_plot = ds.hvplot.image(geo=True)\n",
    "            surf_plot.opts(clim=(-0.3,0.3), cmap='RdBu_r', clabel='SSHA')\n",
    "        \n",
    "        surf_plot.opts(alpha=self.alpha_slider)\n",
    "\n",
    "        return surf_plot\n",
    "        \n",
    "    def view(self):\n",
    "        return hv.DynamicMap(self.plot_surface)*hv.DynamicMap(self.surf_tiles\n",
    "                                        )*hv.DynamicMap(self.surf_vec)*hv.DynamicMap(self.plot_traj)"
   ]
  },
  {
   "cell_type": "code",
   "execution_count": null,
   "metadata": {},
   "outputs": [],
   "source": [
    "test = TrajectoryPlot()"
   ]
  },
  {
   "cell_type": "code",
   "execution_count": null,
   "metadata": {},
   "outputs": [],
   "source": [
    "pn.Row(test.param, test.view())"
   ]
  },
  {
   "cell_type": "code",
   "execution_count": null,
   "metadata": {},
   "outputs": [],
   "source": []
  },
  {
   "cell_type": "markdown",
   "metadata": {},
   "source": [
    "### 2 Class approach with separate parameters and plotting"
   ]
  },
  {
   "cell_type": "code",
   "execution_count": null,
   "metadata": {},
   "outputs": [],
   "source": [
    "class TrajectoryPlot_params(param.Parameterized):\n",
    "    surface_var = param.Selector(surface_var_map.keys(), default='SSH',\n",
    "                                label='Surface Field', precedence=0)\n",
    "    glider_num = param.Selector(glider_map.keys(), default='sg659',\n",
    "                                label='Glider Num', precedence=0)\n",
    "    time_slider = param.Range(label='Days in 2019', \n",
    "                             bounds=(119, 205), \n",
    "                             default=(119, 135), precedence=3)\n",
    "    alpha_slider = param.Magnitude(label='Transparency', precedence=4)\n",
    "\n",
    "class TrajectoryPlot2(TrajectoryPlot_params):\n",
    "    # Function to plot trajectories\n",
    "    @param.depends('glider_num', 'time_slider')\n",
    "    def plot_traj(self):\n",
    "        time_rng = self.time_slider\n",
    "        \n",
    "        traj = {}\n",
    "        for glid in glider_nums:\n",
    "            ds = glider_map[glid]['loc']\n",
    "            ds_tsel = ds.loc[(ds.days>time_rng[0]) & (ds.days<time_rng[1])]\n",
    "        \n",
    "            traj[glid] = ds_tsel.hvplot.points(geo=True,  x='longitude', y='latitude', \n",
    "                                               hover=True, hover_cols=['days'], \n",
    "                                               size=1)\n",
    "            # setting PlateCarree as projection makes the hover cols show up properly, but then the bathy disappears.\n",
    "\n",
    "        traj[self.glider_num].opts(size=2.5)\n",
    "        \n",
    "        return traj['sg659']*traj['sg660']\n",
    "    \n",
    "    # Function to plot tiles\n",
    "    def surf_tiles(self):\n",
    "        gebco_tiles = 'https://tiles.arcgis.com/tiles/C8EMgrsFcRFL6LrL/arcgis/rest/services/GEBCO_basemap_NCEI/MapServer/tile/{Z}/{Y}/{X}'\n",
    "        return gv.WMTS( gebco_tiles )\n",
    "    \n",
    "    # function to plot vector field\n",
    "    @param.depends('time_slider')\n",
    "    def surf_vec(self):\n",
    "        time_sel = self.time_slider[1] # show map for last day on time slider\n",
    "        \n",
    "        return ds_ssh.where(ds_ssh.days==time_sel, drop=True).squeeze('time'\n",
    "                    ).hvplot.vectorfield(x='longitude', y='latitude', angle='angle', mag='mag',\n",
    "                                        geo=True, hover=False).opts(magnitude='mag')\n",
    "    \n",
    "    #function to plot surface field \n",
    "    @param.depends('surface_var', 'time_slider', 'alpha_slider')\n",
    "    def plot_surface(self):\n",
    "        time_sel = self.time_slider[1] # show map for last day on time slider\n",
    "        \n",
    "        ds_all = surface_var_map[self.surface_var]\n",
    "        ds = ds_all.where(ds_all.days==time_sel, drop=True).squeeze('time')\n",
    "        if self.surface_var == 'FSLE':    \n",
    "            surf_plot = ds.hvplot.image(geo=True)\n",
    "            surf_plot.opts(clim=(-0.6,0), cmap='Blues_r', clabel='FSLE')\n",
    "        elif self.surface_var == 'SSH':\n",
    "            surf_plot = ds.hvplot.image(geo=True)\n",
    "            surf_plot.opts(clim=(-1,0), cmap='cividis', clabel='SSH')\n",
    "        else: \n",
    "            surf_plot = ds.hvplot.image(geo=True)\n",
    "            surf_plot.opts(clim=(-0.3,0.3), cmap='RdBu_r', clabel='SSHA')\n",
    "        \n",
    "        surf_plot.opts(alpha=self.alpha_slider)\n",
    "\n",
    "        return surf_plot\n",
    "        \n",
    "    def view(self):\n",
    "        return hv.DynamicMap(self.plot_surface)*hv.DynamicMap(self.surf_tiles\n",
    "                                        )*hv.DynamicMap(self.surf_vec)*hv.DynamicMap(self.plot_traj)"
   ]
  },
  {
   "cell_type": "code",
   "execution_count": null,
   "metadata": {},
   "outputs": [],
   "source": [
    "test2 = TrajectoryPlot2()"
   ]
  },
  {
   "cell_type": "code",
   "execution_count": null,
   "metadata": {},
   "outputs": [],
   "source": [
    "pn.Row(test2.param, test2.view())"
   ]
  },
  {
   "cell_type": "code",
   "execution_count": null,
   "metadata": {},
   "outputs": [],
   "source": []
  }
 ],
 "metadata": {
  "kernelspec": {
   "display_name": "Python [conda env:gliderviz]",
   "language": "python",
   "name": "conda-env-gliderviz-py"
  },
  "language_info": {
   "codemirror_mode": {
    "name": "ipython",
    "version": 3
   },
   "file_extension": ".py",
   "mimetype": "text/x-python",
   "name": "python",
   "nbconvert_exporter": "python",
   "pygments_lexer": "ipython3",
   "version": "3.8.8"
  }
 },
 "nbformat": 4,
 "nbformat_minor": 4
}
