{
 "cells": [
  {
   "cell_type": "markdown",
   "metadata": {},
   "source": [
    "### Dashboard to explore glider data"
   ]
  },
  {
   "cell_type": "code",
   "execution_count": null,
   "metadata": {},
   "outputs": [],
   "source": [
    "import holoviews as hv\n",
    "import hvplot.xarray \n",
    "import numpy as np\n",
    "import panel as pn\n",
    "import xarray as xr"
   ]
  },
  {
   "cell_type": "code",
   "execution_count": null,
   "metadata": {},
   "outputs": [],
   "source": [
    "# Holoviews extensions\n",
    "hv.extension('bokeh')\n",
    "pn.extension()"
   ]
  },
  {
   "cell_type": "markdown",
   "metadata": {},
   "source": [
    "### Load in surface variables"
   ]
  },
  {
   "cell_type": "code",
   "execution_count": null,
   "metadata": {},
   "outputs": [],
   "source": [
    "# Open data\n",
    "\n",
    "# open Surface fields\n",
    "fname_SSH = \"./data/SSH_sogos.nc\"\n",
    "fname_FSLE = \"./data/FSLE_sogos.nc\"\n",
    "\n",
    "ds_ssh = xr.open_dataset(fname_SSH)\n",
    "ds_fsle = xr.open_dataset(fname_FSLE)\n",
    "\n",
    "# Create variables for vectors\n",
    "ds_ssh['mag'] = np.sqrt(ds_ssh.ugos**2 + ds_ssh.vgos**2)\n",
    "ds_ssh['angle'] = (np.pi/2.) - np.arctan2(ds_ssh.ugos/ds_ssh['mag'], \n",
    "                                          ds_ssh.vgos/ds_ssh['mag'])"
   ]
  },
  {
   "cell_type": "code",
   "execution_count": null,
   "metadata": {},
   "outputs": [],
   "source": [
    "days = ds_ssh.time - np.datetime64('2019-01-01')\n",
    "ds_ssh['days'] = (days / np.timedelta64(1, 'D'))\n",
    "\n",
    "days = ds_fsle.time - np.datetime64('2019-01-01')\n",
    "ds_fsle['days'] = (days / np.timedelta64(1, 'D'))"
   ]
  },
  {
   "cell_type": "markdown",
   "metadata": {},
   "source": [
    "### Load glider data"
   ]
  },
  {
   "cell_type": "code",
   "execution_count": null,
   "metadata": {},
   "outputs": [],
   "source": [
    "# open glider files\n",
    "glid_folder = './data/'\n",
    "ds_659 = xr.load_dataset(glid_folder + 'sg659/CTD_659.nc')\n",
    "ds_660 = xr.load_dataset(glid_folder + 'sg660/CTD_660.nc')\n",
    "\n",
    "# easier to work with a days variable that is a float rather than datenum\n",
    "days = ds_659.time - np.datetime64('2019-01-01')\n",
    "ds_659['days'] = (days / np.timedelta64(1, 'D'))\n",
    "\n",
    "days = ds_660.time - np.datetime64('2019-01-01')\n",
    "ds_660['days'] = (days / np.timedelta64(1, 'D'))\n",
    "\n",
    "# Group and average by dives so that plotting of positions is fast\n",
    "ds_659_av = ds_659.groupby('dives').mean()\n",
    "ds_660_av = ds_660.groupby('dives').mean()\n",
    "\n",
    "ds_659_av = ds_659_av.drop('dives')\n",
    "ds_660_av = ds_660_av.drop('dives')"
   ]
  },
  {
   "cell_type": "code",
   "execution_count": null,
   "metadata": {},
   "outputs": [],
   "source": [
    "# convert from point data to gridded data, can take some time\n",
    "ds_659_grid = xr.load_dataset(glid_folder + '659_grid.nc')\n",
    "ds_660_grid = xr.load_dataset(glid_folder + '660_grid.nc')"
   ]
  },
  {
   "cell_type": "markdown",
   "metadata": {},
   "source": [
    "### Surface plots "
   ]
  },
  {
   "cell_type": "code",
   "execution_count": null,
   "metadata": {},
   "outputs": [],
   "source": [
    "# Create Widgets\n",
    "surf_var_select = pn.widgets.Select(name='Surface Field',\n",
    "                    options = ['SSH','SSHA','FSLE'])\n",
    "\n",
    "time_slider = pn.widgets.IntSlider(start=int(ds_ssh.days.min().values),\n",
    "                                end = int(ds_ssh.days.max().values))\n",
    "\n",
    "time_range_slider = pn.widgets.IntRangeSlider(name='Year Day Range',start=int(ds_ssh.days.min().values),\n",
    "                                end = int(ds_ssh.days.max().values), \n",
    "                                value=(int(ds_ssh.days.min().values), int(ds_ssh.days.min().values)+10))\n",
    "\n",
    "glider_select = pn.widgets.Select(name='Glider #', options=['659', '660'])"
   ]
  },
  {
   "cell_type": "code",
   "execution_count": null,
   "metadata": {},
   "outputs": [],
   "source": [
    "glider_var_select = pn.widgets.Select(name='Glider Variable', options=['temperature', 'salinity','spice'])"
   ]
  },
  {
   "cell_type": "code",
   "execution_count": null,
   "metadata": {},
   "outputs": [],
   "source": [
    "# generate the maps\n",
    "@pn.depends(surf_var_select, time_range_slider, glider_select)\n",
    "def combined_map(var_sel, time_rng, glid_sel):\n",
    "#@pn.depends(var_sel = surf_var_select.param.value, \n",
    "#            time_rng = time_range_slider.param.value, \n",
    "#            glid_sel = glider_select.param.value)\n",
    "#def combined_map(var_sel, time_rng, glid_sel):\n",
    "    surf_var_plot = plot_surface_var(time_rng[1], var_sel)\n",
    "    glid_track_plot =  plot_glider_tracks(time_rng, glid_sel)\n",
    "   \n",
    "    final_plot =  (surf_var_plot*glid_track_plot).opts(frame_width=400, frame_height=400, \n",
    "                                                       xlim=(28,40), ylim=(-55,-49)\n",
    "                                               ).opts(\n",
    "                                                     title =str(ds_ssh.time.where(ds_ssh.days==time_rng[1], drop=True).squeeze('time').values)[0:10])\n",
    "    \n",
    "    return final_plot\n",
    "    \n",
    "    \n",
    "    \n",
    "# generate the right surface contourf/image  \n",
    "#@pn.depends(time_sel = time_slider.param.value, var_sel=surf_var_select.param.value )\n",
    "def plot_surface_var(time_sel, var_sel):\n",
    "    vec_plot = ds_ssh.where(ds_ssh.days==time_sel,drop=True).squeeze('time').hvplot.vectorfield(\n",
    "                                      x='longitude', y='latitude', angle='angle', mag='mag',\n",
    "                                       hover=False).opts(magnitude='mag')\n",
    "    \n",
    "    if var_sel == 'SSH':\n",
    "        plot_gen = ds_ssh['adt'].where(ds_ssh.days==time_sel,drop=True\n",
    "                                      ).squeeze('time').hvplot.contourf(levels=np.linspace(-1.2,0,21)\n",
    "                                                                        ).opts(clim=(-1,0), \n",
    "                                                                               cmap='RdBu_r',\n",
    "                                                                               clabel='SSH')\n",
    "        \n",
    "    elif var_sel =='SSHA':\n",
    "        plot_gen = ds_ssh['sla'].where(ds_ssh.days==time_sel,drop=True\n",
    "                                      ).squeeze('time').hvplot.contourf(levels=np.linspace(-.4,0.6,21), \n",
    "                                                                     ).opts(clim=(-0.3,0.3),\n",
    "                                                                            cmap='RdBu_r',\n",
    "                                                                            clabel='SSHA')\n",
    "    \n",
    "    elif var_sel == 'FSLE':\n",
    "        plot_gen = ds_fsle['fsle_max'].where(ds_ssh.days==time_sel,drop=True\n",
    "                                            ).squeeze('time').hvplot.image().opts(clim=(-0.6,0),\n",
    "                                                                                  cmap='Blues_r',\n",
    "                                                                                  clabel='FSLE')\n",
    "        \n",
    "    composite = (plot_gen*vec_plot)\n",
    "                            #str(ds_ssh.time.where(ds_ssh.days==150, drop=True).squeeze('time').values)[0:10] )\n",
    "    \n",
    "    return composite\n",
    "\n",
    "\n",
    "# Generate the glider tracks\n",
    "#@pn.depends(time_rng = time_range_slider.param.value, glid_sel = glider_select.param.value)\n",
    "def plot_glider_tracks(time_rng, glid_sel=\"659\"):\n",
    "    \n",
    "    width_659=2\n",
    "    width_660=2\n",
    "    \n",
    "    if glid_sel==\"659\":\n",
    "        width_659 = 4.\n",
    "    elif glid_sel==\"660\":\n",
    "        width_660=4.\n",
    "        \n",
    "    \n",
    "    plot_660 = ds_660_av.where(np.logical_and(ds_660_av.days>time_rng[0], \n",
    "                                              ds_660_av.days<time_rng[1]), drop=True \n",
    "                          ).hvplot(x='longitude', y='latitude', \n",
    "                                   hover=True, hover_cols=['days'], \n",
    "                                   line_width=width_660, line_color=\"orange\" )\n",
    "    \n",
    "    plot_659 = ds_659_av.where(np.logical_and(ds_659_av.days>time_rng[0], \n",
    "                                              ds_659_av.days<time_rng[1]), drop=True \n",
    "                          ).hvplot(x='longitude', y='latitude', hover=True, \n",
    "                                   hover_cols=['days'],\n",
    "                                  line_width=width_659, line_color=\"green\")\n",
    "    \n",
    "    composite = (plot_660 * plot_659)\n",
    "    \n",
    "    return composite"
   ]
  },
  {
   "cell_type": "code",
   "execution_count": null,
   "metadata": {},
   "outputs": [],
   "source": [
    "@pn.depends(glider_select, glider_var_select)\n",
    "def plot_glider(glid_num, glid_var):\n",
    "    \n",
    "    bin_range = ()\n",
    "    cmap_sel = 'RdBu_r'\n",
    "        \n",
    "    if glid_var=='spice':\n",
    "        bin_range = (-0.7, 0.02)\n",
    "        cmap_sel = 'RdBu_r'\n",
    "    \n",
    "    elif glid_var=='salinity':\n",
    "        bin_range=(33.75, 35)\n",
    "        cmap_sel = 'RdBu_r'\n",
    "        \n",
    "    elif glid_var=='temperature':\n",
    "        bin_range=(0,4)\n",
    "        cmap_sel='RdBu_r'\n",
    "        \n",
    "    \n",
    "    if glid_num=='659':\n",
    "       \n",
    "        plot_gen_image = ds_659_grid[glid_var].hvplot.image(cmap=cmap_sel, \n",
    "                                                flip_yaxis=True, clim=bin_range).apply.opts(\n",
    "                                                xlim = time_range_slider).hist(bin_range = bin_range)\n",
    "        plot_gen_contour = ds_659_grid['potdens'].hvplot.contour(flip_yaxis=True, \n",
    "                                                                 levels=np.linspace(1026.8, 1027.8,11)\n",
    "                                                                 ).apply.opts(xlim = time_range_slider)\n",
    "        \n",
    "        plot_gen = plot_gen_image*plot_gen_contour\n",
    "        \n",
    "    elif glid_num=='660':\n",
    "        \n",
    "        plot_gen_image = ds_660_grid[glid_var].hvplot.image(cmap=cmap_sel, \n",
    "                                                flip_yaxis=True, clim=bin_range).apply.opts(\n",
    "                                                xlim = time_range_slider).hist(bin_range = bin_range)\n",
    "        plot_gen_contour = ds_660_grid['potdens'].hvplot.contour(flip_yaxis=True, \n",
    "                                                                 levels=np.linspace(1026.8, 1027.8,11)\n",
    "                                                                ).apply.opts(xlim = time_range_slider)\n",
    "        \n",
    "        plot_gen = plot_gen_image*plot_gen_contour\n",
    "        \n",
    "    return plot_gen\n"
   ]
  },
  {
   "cell_type": "code",
   "execution_count": null,
   "metadata": {},
   "outputs": [],
   "source": [
    "Surf = pn.Column(pn.Row(\n",
    "    pn.Column(pn.panel('# Southern Ocean Glider Observations of the Submesoscales'),\n",
    "              pn.panel('## Glider Explorer'),\n",
    "              pn.WidgetBox(surf_var_select, time_range_slider, glider_select, glider_var_select)), \n",
    "       combined_map), plot_glider)"
   ]
  },
  {
   "cell_type": "code",
   "execution_count": null,
   "metadata": {},
   "outputs": [],
   "source": [
    "# working locally\n",
    "#Surf.show()\n",
    "\n",
    "# mybinder.org app\n",
    "Surf.servable()"
   ]
  },
  {
   "cell_type": "code",
   "execution_count": null,
   "metadata": {},
   "outputs": [],
   "source": []
  }
 ],
 "metadata": {
  "kernelspec": {
   "display_name": "Python 3",
   "language": "python",
   "name": "python3"
  },
  "language_info": {
   "codemirror_mode": {
    "name": "ipython",
    "version": 3
   },
   "file_extension": ".py",
   "mimetype": "text/x-python",
   "name": "python",
   "nbconvert_exporter": "python",
   "pygments_lexer": "ipython3",
   "version": "3.8.5"
  }
 },
 "nbformat": 4,
 "nbformat_minor": 4
}
